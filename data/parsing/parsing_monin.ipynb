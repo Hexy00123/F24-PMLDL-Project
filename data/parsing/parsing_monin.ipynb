{
    "cells": [
        {
            "cell_type": "code",
            "execution_count": 23,
            "metadata": {},
            "outputs": [],
            "source": [
                "import requests\n",
                "from bs4 import BeautifulSoup\n",
                "import time \n",
                "from tqdm.notebook import tqdm  \n",
                "from selenium import webdriver\n",
                "from selenium.webdriver.common.by import By\n",
                "import json\n",
                "import os "
            ]
        },
        {
            "cell_type": "code",
            "execution_count": 26,
            "metadata": {},
            "outputs": [
                {
                    "data": {
                        "text/plain": [
                            "['monin_drinks_urls.json', 'temp']"
                        ]
                    },
                    "execution_count": 26,
                    "metadata": {},
                    "output_type": "execute_result"
                }
            ],
            "source": [
                "os.listdir('../monin')"
            ]
        },
        {
            "cell_type": "code",
            "execution_count": null,
            "metadata": {},
            "outputs": [],
            "source": [
                "browser = webdriver.Firefox()\n",
                "browser.get('https://www.monin.com/us/recipes/drinks')"
            ]
        },
        {
            "cell_type": "code",
            "execution_count": null,
            "metadata": {},
            "outputs": [],
            "source": [
                "def find_drinks_on_page(browser, page_url, page_number): \n",
                "    drink_urls = [] \n",
                "\n",
                "    browser.get(f'{page_url}&page={page_number}')\n",
                "    browser.implicitly_wait(5) \n",
                "    time.sleep(1)   \n",
                "\n",
                "    browser.execute_script(\"window.scrollBy(0, document.body.scrollHeight);\")       \n",
                "    browser.implicitly_wait(3) \n",
                "    time.sleep(1)\n",
                "\n",
                "    browser.execute_script(\"window.scrollBy(0, document.body.scrollHeight);\") \n",
                "    browser.implicitly_wait(2)\n",
                "    time.sleep(4)\n",
                "    \n",
                "    for element in browser.find_elements(By.TAG_NAME, 'ul'): \n",
                "        if element.get_attribute('class') != 'ProductListPage CategoryProductList-Page CategoryProductList-Page_layout_grid': \n",
                "            continue\n",
                "\n",
                "        for drink in element.find_elements(By.TAG_NAME, 'a'): \n",
                "            drink_urls.append(drink.get_attribute('href') )\n",
                "\n",
                "    return drink_urls\n",
                "\n",
                "def parse_pages(browser, pages_base_url, pages_number): \n",
                "    urls = [] \n",
                "\n",
                "    for page_number in tqdm(range(1, pages_number + 1)):\n",
                "        page_urls = find_drinks_on_page(browser, pages_base_url, page_number)\n",
                "\n",
                "        if len(page_urls) == 0: \n",
                "            print('Error occured in:', f'\\n\\t{pages_base_url}', f'\\n\\ton page: {page_number}')\n",
                "\n",
                "        urls += page_urls\n",
                "\n",
                "    return urls\n"
            ]
        },
        {
            "cell_type": "code",
            "execution_count": null,
            "metadata": {},
            "outputs": [],
            "source": [
                "pages = {\n",
                "    # parsed\n",
                "    'lemonade': [\n",
                "        ('https://www.monin.com/us/recipes/drinks?customFilters=category_id:18', 9)\n",
                "    ], \n",
                "\n",
                "    # parsed\n",
                "    'coffee':  [\n",
                "        ('https://www.monin.com/us/recipes/drinks?customFilters=category_id:14', 16)\n",
                "    ],\n",
                "\n",
                "    # 'milkshake': [\n",
                "    #     ('', 1)\n",
                "    # ],\n",
                "\n",
                "    # 'hot_tea': [\n",
                "    #     ('', 1)\n",
                "    # ],\n",
                "\n",
                "    # parsed\n",
                "    'cold_tea': [\n",
                "        ('https://www.monin.com/us/recipes/drinks?customFilters=category_id:33', 5)\n",
                "    ],\n",
                "\n",
                "    'alcohol': [\n",
                "        ('https://www.monin.com/us/recipes/drinks?customFilters=category_id:16', 32)\n",
                "    ],\n",
                "\n",
                "    'smoothie': [\n",
                "        ('https://www.monin.com/us/recipes/drinks?customFilters=category_id:558', 3), \n",
                "        ('https://www.monin.com/us/recipes/drinks?customFilters=category_id:724', 2), \n",
                "    ],      \n",
                "\n",
                "    'punch': [\n",
                "        ('https://www.monin.com/us/recipes/drinks?customFilters=category_id:163', 2)\n",
                "    ],    \n",
                "}"
            ]
        },
        {
            "cell_type": "code",
            "execution_count": null,
            "metadata": {},
            "outputs": [],
            "source": [
                "drink_urls = {} \n",
                "\n",
                "for category in tqdm(pages): \n",
                "        for category_url, pages_number in pages[category]:      \n",
                "                drink_urls[category] = drink_urls.get(category, []) + parse_pages(browser, category_url, pages_number)"
            ]
        },
        {
            "cell_type": "code",
            "execution_count": null,
            "metadata": {},
            "outputs": [],
            "source": [
                "for category in drink_urls: \n",
                "    print(category, len(drink_urls[category]))"
            ]
        },
        {
            "cell_type": "code",
            "execution_count": null,
            "metadata": {},
            "outputs": [],
            "source": [
                "with open('../monin/monin_drinks_urls.json', 'w') as file:\n",
                "    json.dump(drink_urls, file)"
            ]
        },
        {
            "cell_type": "code",
            "execution_count": null,
            "metadata": {},
            "outputs": [],
            "source": [
                "# with open('../monin/monin_drinks_urls.json') as file:\n",
                "#     drink_urls = json.load(file)"
            ]
        },
        {
            "cell_type": "code",
            "execution_count": 30,
            "metadata": {},
            "outputs": [
                {
                    "name": "stdout",
                    "output_type": "stream",
                    "text": [
                        "lemonade 195\n",
                        "coffee 384\n",
                        "cold_tea 108\n",
                        "alcohol 765\n",
                        "smoothie 93\n",
                        "punch 27\n"
                    ]
                }
            ],
            "source": [
                "for category in drink_urls: \n",
                "    print(category, len(drink_urls[category]))"
            ]
        },
        {
            "cell_type": "code",
            "execution_count": 36,
            "metadata": {},
            "outputs": [],
            "source": [
                "cache = {}"
            ]
        },
        {
            "cell_type": "code",
            "execution_count": 37,
            "metadata": {},
            "outputs": [
                {
                    "data": {
                        "application/vnd.jupyter.widget-view+json": {
                            "model_id": "32f603345bd54b94bf5f1af2d3772be3",
                            "version_major": 2,
                            "version_minor": 0
                        },
                        "text/plain": [
                            "  0%|          | 0/6 [00:00<?, ?it/s]"
                        ]
                    },
                    "metadata": {},
                    "output_type": "display_data"
                },
                {
                    "data": {
                        "application/vnd.jupyter.widget-view+json": {
                            "model_id": "ee8e6cecfdfc42e590912d66991e963e",
                            "version_major": 2,
                            "version_minor": 0
                        },
                        "text/plain": [
                            "  0%|          | 0/195 [00:00<?, ?it/s]"
                        ]
                    },
                    "metadata": {},
                    "output_type": "display_data"
                },
                {
                    "data": {
                        "application/vnd.jupyter.widget-view+json": {
                            "model_id": "84e2f6d8cb824f1ba394e1e0d618c1d3",
                            "version_major": 2,
                            "version_minor": 0
                        },
                        "text/plain": [
                            "  0%|          | 0/384 [00:00<?, ?it/s]"
                        ]
                    },
                    "metadata": {},
                    "output_type": "display_data"
                },
                {
                    "data": {
                        "application/vnd.jupyter.widget-view+json": {
                            "model_id": "09e9c6fca64a49db87ff783513c29005",
                            "version_major": 2,
                            "version_minor": 0
                        },
                        "text/plain": [
                            "  0%|          | 0/108 [00:00<?, ?it/s]"
                        ]
                    },
                    "metadata": {},
                    "output_type": "display_data"
                },
                {
                    "data": {
                        "application/vnd.jupyter.widget-view+json": {
                            "model_id": "6c8a5e13f45e4109ab4ffa06fdfd0fee",
                            "version_major": 2,
                            "version_minor": 0
                        },
                        "text/plain": [
                            "  0%|          | 0/765 [00:00<?, ?it/s]"
                        ]
                    },
                    "metadata": {},
                    "output_type": "display_data"
                },
                {
                    "ename": "TimeoutException",
                    "evalue": "Message: Navigation timed out after 300000 ms\nStacktrace:\nRemoteError@chrome://remote/content/shared/RemoteError.sys.mjs:8:8\nWebDriverError@chrome://remote/content/shared/webdriver/Errors.sys.mjs:193:5\nTimeoutError@chrome://remote/content/shared/webdriver/Errors.sys.mjs:740:5\nbail@chrome://remote/content/marionette/sync.sys.mjs:211:19\n",
                    "output_type": "error",
                    "traceback": [
                        "\u001b[0;31m---------------------------------------------------------------------------\u001b[0m",
                        "\u001b[0;31mTimeoutException\u001b[0m                          Traceback (most recent call last)",
                        "Cell \u001b[0;32mIn[37], line 10\u001b[0m\n\u001b[1;32m      7\u001b[0m     os\u001b[38;5;241m.\u001b[39mmkdir(\u001b[38;5;124mf\u001b[39m\u001b[38;5;124m'\u001b[39m\u001b[38;5;124m../monin/\u001b[39m\u001b[38;5;132;01m{\u001b[39;00mcategory\u001b[38;5;132;01m}\u001b[39;00m\u001b[38;5;124m'\u001b[39m)\n\u001b[1;32m      9\u001b[0m \u001b[38;5;28;01mfor\u001b[39;00m url \u001b[38;5;129;01min\u001b[39;00m tqdm(urls): \n\u001b[0;32m---> 10\u001b[0m     \u001b[43mbrowser\u001b[49m\u001b[38;5;241;43m.\u001b[39;49m\u001b[43mget\u001b[49m\u001b[43m(\u001b[49m\u001b[43murl\u001b[49m\u001b[43m)\u001b[49m\n\u001b[1;32m     11\u001b[0m     browser\u001b[38;5;241m.\u001b[39mimplicitly_wait(\u001b[38;5;241m4\u001b[39m)\n\u001b[1;32m     12\u001b[0m     time\u001b[38;5;241m.\u001b[39msleep(\u001b[38;5;241m3.5\u001b[39m)    \n",
                        "File \u001b[0;32m~/Documents/envs/pmldl_project/lib/python3.12/site-packages/selenium/webdriver/remote/webdriver.py:363\u001b[0m, in \u001b[0;36mWebDriver.get\u001b[0;34m(self, url)\u001b[0m\n\u001b[1;32m    361\u001b[0m \u001b[38;5;28;01mdef\u001b[39;00m \u001b[38;5;21mget\u001b[39m(\u001b[38;5;28mself\u001b[39m, url: \u001b[38;5;28mstr\u001b[39m) \u001b[38;5;241m-\u001b[39m\u001b[38;5;241m>\u001b[39m \u001b[38;5;28;01mNone\u001b[39;00m:\n\u001b[1;32m    362\u001b[0m \u001b[38;5;250m    \u001b[39m\u001b[38;5;124;03m\"\"\"Loads a web page in the current browser session.\"\"\"\u001b[39;00m\n\u001b[0;32m--> 363\u001b[0m     \u001b[38;5;28;43mself\u001b[39;49m\u001b[38;5;241;43m.\u001b[39;49m\u001b[43mexecute\u001b[49m\u001b[43m(\u001b[49m\u001b[43mCommand\u001b[49m\u001b[38;5;241;43m.\u001b[39;49m\u001b[43mGET\u001b[49m\u001b[43m,\u001b[49m\u001b[43m \u001b[49m\u001b[43m{\u001b[49m\u001b[38;5;124;43m\"\u001b[39;49m\u001b[38;5;124;43murl\u001b[39;49m\u001b[38;5;124;43m\"\u001b[39;49m\u001b[43m:\u001b[49m\u001b[43m \u001b[49m\u001b[43murl\u001b[49m\u001b[43m}\u001b[49m\u001b[43m)\u001b[49m\n",
                        "File \u001b[0;32m~/Documents/envs/pmldl_project/lib/python3.12/site-packages/selenium/webdriver/remote/webdriver.py:354\u001b[0m, in \u001b[0;36mWebDriver.execute\u001b[0;34m(self, driver_command, params)\u001b[0m\n\u001b[1;32m    352\u001b[0m response \u001b[38;5;241m=\u001b[39m \u001b[38;5;28mself\u001b[39m\u001b[38;5;241m.\u001b[39mcommand_executor\u001b[38;5;241m.\u001b[39mexecute(driver_command, params)\n\u001b[1;32m    353\u001b[0m \u001b[38;5;28;01mif\u001b[39;00m response:\n\u001b[0;32m--> 354\u001b[0m     \u001b[38;5;28;43mself\u001b[39;49m\u001b[38;5;241;43m.\u001b[39;49m\u001b[43merror_handler\u001b[49m\u001b[38;5;241;43m.\u001b[39;49m\u001b[43mcheck_response\u001b[49m\u001b[43m(\u001b[49m\u001b[43mresponse\u001b[49m\u001b[43m)\u001b[49m\n\u001b[1;32m    355\u001b[0m     response[\u001b[38;5;124m\"\u001b[39m\u001b[38;5;124mvalue\u001b[39m\u001b[38;5;124m\"\u001b[39m] \u001b[38;5;241m=\u001b[39m \u001b[38;5;28mself\u001b[39m\u001b[38;5;241m.\u001b[39m_unwrap_value(response\u001b[38;5;241m.\u001b[39mget(\u001b[38;5;124m\"\u001b[39m\u001b[38;5;124mvalue\u001b[39m\u001b[38;5;124m\"\u001b[39m, \u001b[38;5;28;01mNone\u001b[39;00m))\n\u001b[1;32m    356\u001b[0m     \u001b[38;5;28;01mreturn\u001b[39;00m response\n",
                        "File \u001b[0;32m~/Documents/envs/pmldl_project/lib/python3.12/site-packages/selenium/webdriver/remote/errorhandler.py:229\u001b[0m, in \u001b[0;36mErrorHandler.check_response\u001b[0;34m(self, response)\u001b[0m\n\u001b[1;32m    227\u001b[0m         alert_text \u001b[38;5;241m=\u001b[39m value[\u001b[38;5;124m\"\u001b[39m\u001b[38;5;124malert\u001b[39m\u001b[38;5;124m\"\u001b[39m]\u001b[38;5;241m.\u001b[39mget(\u001b[38;5;124m\"\u001b[39m\u001b[38;5;124mtext\u001b[39m\u001b[38;5;124m\"\u001b[39m)\n\u001b[1;32m    228\u001b[0m     \u001b[38;5;28;01mraise\u001b[39;00m exception_class(message, screen, stacktrace, alert_text)  \u001b[38;5;66;03m# type: ignore[call-arg]  # mypy is not smart enough here\u001b[39;00m\n\u001b[0;32m--> 229\u001b[0m \u001b[38;5;28;01mraise\u001b[39;00m exception_class(message, screen, stacktrace)\n",
                        "\u001b[0;31mTimeoutException\u001b[0m: Message: Navigation timed out after 300000 ms\nStacktrace:\nRemoteError@chrome://remote/content/shared/RemoteError.sys.mjs:8:8\nWebDriverError@chrome://remote/content/shared/webdriver/Errors.sys.mjs:193:5\nTimeoutError@chrome://remote/content/shared/webdriver/Errors.sys.mjs:740:5\nbail@chrome://remote/content/marionette/sync.sys.mjs:211:19\n"
                    ]
                }
            ],
            "source": [
                "drinks = [] \n",
                "\n",
                "for category in tqdm(drink_urls): \n",
                "    urls = drink_urls[category]\n",
                "\n",
                "    if 'category' not in os.listdir('../monin'): \n",
                "        os.mkdir(f'../monin/{category}')\n",
                "\n",
                "    for url in tqdm(urls): \n",
                "        browser.get(url)\n",
                "        browser.implicitly_wait(4)\n",
                "        time.sleep(3.5)    \n",
                "\n",
                "        for script in browser.find_elements(By.TAG_NAME, 'script'):\n",
                "            if script.get_attribute('id') == 'recipe-data-snippet':     \n",
                "                drink_data = json.loads(script.get_attribute('innerHTML'))\n",
                "                drink_name = drink_data['name']\n",
                "\n",
                "                image_link = drink_data['image']\n",
                "                image_ext = image_link.split('.')[-1]\n",
                "                timestamp = str(time.time()).replace('.', '_')\n",
                "\n",
                "                recipie =  '\\n'.join(list(map(lambda x: x.replace('</sup>', '').replace('<sub>', ''), drink_data['recipeIngredient']))) + '\\n' * 2 + '\\n'.join(drink_data['recipeInstructions'])\n",
                "\n",
                "                image_request = requests.get(image_link)\n",
                "                \n",
                "                with open(f'../monin/{category}/{timestamp}.{image_ext}', mode='wb') as file: \n",
                "                    file.write(image_request.content)\n",
                "\n",
                "                drinks.append({\n",
                "                    'name': drink_name, \n",
                "                    'recipie': recipie,\n",
                "                    'category': category, \n",
                "                    'image_name': f'{timestamp}.{image_ext}', \n",
                "                    'image_ext': image_ext, \n",
                "                    'image_url': image_link\n",
                "                })\n",
                "\n",
                "                # print({\n",
                "                #     'name': drink_name, \n",
                "                #     'recipie': recipie,\n",
                "                #     'category': category, \n",
                "                #     'image_name': f'{timestamp}.{image_ext}', \n",
                "                #     'image_ext': image_ext, \n",
                "                #     'image_url': image_link\n",
                "                # })\n",
                "\n",
                "                # print('-'*20 + '\\n\\n')\n",
                "                break\n",
                "    cache[category] = drinks.copy()"
            ]
        },
        {
            "cell_type": "code",
            "execution_count": 45,
            "metadata": {},
            "outputs": [],
            "source": [
                "import csv\n",
                "\n",
                "\n",
                "with open('../drink_recipies_monin.csv', 'w', newline='') as csvfile:\n",
                "    fieldnames = ['name', 'recipie', 'category', 'image_name', 'image_ext', 'image_url']\n",
                "    writer = csv.DictWriter(csvfile, fieldnames=fieldnames)\n",
                "\n",
                "    writer.writeheader()\n",
                "    writer.writerows(drinks)"
            ]
        },
        {
            "cell_type": "code",
            "execution_count": 47,
            "metadata": {},
            "outputs": [
                {
                    "data": {
                        "text/plain": [
                            "category\n",
                            "coffee      384\n",
                            "lemonade    195\n",
                            "cold_tea    108\n",
                            "Name: count, dtype: int64"
                        ]
                    },
                    "execution_count": 47,
                    "metadata": {},
                    "output_type": "execute_result"
                }
            ],
            "source": [
                "import pandas as pd\n",
                "\n",
                "pd.read_csv('../drink_recipies_monin.csv')['category'].value_counts()"
            ]
        }
    ],
    "metadata": {
        "kernelspec": {
            "display_name": "pmldl_project",
            "language": "python",
            "name": "python3"
        },
        "language_info": {
            "codemirror_mode": {
                "name": "ipython",
                "version": 3
            },
            "file_extension": ".py",
            "mimetype": "text/x-python",
            "name": "python",
            "nbconvert_exporter": "python",
            "pygments_lexer": "ipython3",
            "version": "3.12.5"
        }
    },
    "nbformat": 4,
    "nbformat_minor": 2
}
