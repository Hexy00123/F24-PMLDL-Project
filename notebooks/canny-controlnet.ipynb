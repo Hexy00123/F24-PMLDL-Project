{
 "cells": [
  {
   "cell_type": "code",
   "id": "fbb1b3bfd98b323d",
   "metadata": {},
   "source": [
    "from PIL import Image, ImageOps\n",
    "from transparent_background import Remover\n",
    "\n",
    "remover = Remover()  # default setting\n",
    "remover = Remover(mode='base') \n",
    "\n",
    "img = Image.open(\"../data/monin/combined_dataset/test/1725657501_6166165.png\")\n",
    "# img = img.resize((512, 512))\n",
    "# mask = remover.process(img, type='map')\n",
    "img"
   ],
   "outputs": [],
   "execution_count": null
  },
  {
   "metadata": {},
   "cell_type": "code",
   "source": [
    "import cv2\n",
    "\n",
    "import numpy as np\n",
    "\n",
    "low_threshold = 150\n",
    "high_threshold = 400\n",
    "# low_threshold = 550\n",
    "# high_threshold = 650\n",
    "\n",
    "# image = np.array(background_img)\n",
    "image = np.array(img)\n",
    "image = cv2.Canny(image, low_threshold, high_threshold)\n",
    "image = image[:, :, None]\n",
    "image = np.concatenate([image, image, image], axis=2)\n",
    "# Apply Gaussian blur to the Canny image (you can adjust kernel size (5, 5) and sigma as needed)\n",
    "blurred_image = cv2.GaussianBlur(image, (5, 5), 0)\n",
    "\n",
    "# Convert to PIL image for display or further processing\n",
    "canny_image = Image.fromarray(blurred_image)\n",
    "\n",
    "canny_image"
   ],
   "id": "3945003b28252c15",
   "outputs": [],
   "execution_count": null
  },
  {
   "metadata": {
    "collapsed": true
   },
   "cell_type": "code",
   "source": [
    "\n",
    "\n",
    "from diffusers import ControlNetModel\n",
    "import os\n",
    "import torch\n",
    "\n",
    "from diffusers import StableDiffusionPipeline\n",
    "from diffusers import DiffusionPipeline\n",
    "from diffusers import StableDiffusionControlNetPipeline\n",
    "\n",
    "\n",
    "\n",
    "controlnet = ControlNetModel.from_pretrained(\n",
    "                                \n",
    "                                            \"lllyasviel/sd-controlnet-canny\",\n",
    "                                            # \"diffusers/controlnet-canny-sdxl-1.0\",\n",
    "                                             torch_dtype=torch.float16\n",
    "                                             )\n",
    "\n",
    "pipe = StableDiffusionControlNetPipeline.from_pretrained(\"sd-model-finetuned\", torch_dtype=torch.float16, controlnet=controlnet)\n",
    "# pipe = DiffusionPipeline.from_pretrained(\n",
    "#                                                 # \"runwayml/stable-diffusion-v1-5\", \n",
    "#                                                 \"sd-model-finetuned\",\n",
    "#                                                     torch_dtype=torch.float16, \n",
    "#                                                 # controlnet=controlnet\n",
    "# )\n",
    "\n",
    "\n",
    "pipe = pipe.to(\"cuda\")\n",
    "# prompt = \"isometric view of a skyscraper in the style of a city building game\"\n",
    "prompt = \"Name: 'Luck Of The Irish' Frozen Lemonade; Recipie: 3/4 oz. Monin Pistachio Syrup\\n3/4 oz. Monin Ginger Syrup\\n2 oz. fresh lemon sour mix\\n\\nFill serving glass full of ice.\\nPour ingredients into blender cup in order listed.\\nAdd ice from serving glass, cap, and blend until smooth.\\nPour back into serving glass, add garnish and serve.; Category: lemonade\"\n",
    "negative_prompt = 'low quality, bad quality, sketches'\n",
    "controlnet_conditioning_scale = 0.5\n",
    "\n",
    "images = pipe(prompt=prompt, negative_prompt=negative_prompt, image=canny_image, num_images_per_prompt=6).images"
   ],
   "id": "initial_id",
   "outputs": [],
   "execution_count": null
  }
 ],
 "metadata": {
  "kernelspec": {
   "display_name": "Python 3",
   "language": "python",
   "name": "python3"
  },
  "language_info": {
   "codemirror_mode": {
    "name": "ipython",
    "version": 2
   },
   "file_extension": ".py",
   "mimetype": "text/x-python",
   "name": "python",
   "nbconvert_exporter": "python",
   "pygments_lexer": "ipython2",
   "version": "2.7.6"
  }
 },
 "nbformat": 4,
 "nbformat_minor": 5
}
