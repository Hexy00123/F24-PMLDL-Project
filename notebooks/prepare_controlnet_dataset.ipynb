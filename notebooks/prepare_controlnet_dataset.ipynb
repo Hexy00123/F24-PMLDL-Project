{
 "cells": [
  {
   "metadata": {
    "ExecuteTime": {
     "end_time": "2024-10-27T16:06:33.759992Z",
     "start_time": "2024-10-27T16:06:33.753894Z"
    }
   },
   "cell_type": "code",
   "source": [
    "INPUT_DIR = \"../data/monin/combined_dataset\"\n",
    "PUSH_PATH = \"ThreeBibas/recipie-mask-image\""
   ],
   "id": "321cdeb072b67155",
   "outputs": [],
   "execution_count": 1
  },
  {
   "metadata": {
    "ExecuteTime": {
     "end_time": "2024-10-27T16:06:54.352378Z",
     "start_time": "2024-10-27T16:06:49.886781Z"
    }
   },
   "cell_type": "code",
   "source": [
    "!git config --global credential.helper store\n",
    "!pip install transparent-background\n",
    "from huggingface_hub import login\n",
    "from secret import HF_TOKEN\n",
    "\n",
    "login(token=HF_TOKEN, add_to_git_credential=True)"
   ],
   "id": "f60c5346cfa8832d",
   "outputs": [
    {
     "name": "stdout",
     "output_type": "stream",
     "text": [
      "/bin/bash: warning: setlocale: LC_ALL: cannot change locale (en_US.UTF-8)\r\n",
      "/bin/bash: warning: setlocale: LC_ALL: cannot change locale (en_US.UTF-8)\r\n",
      "Defaulting to user installation because normal site-packages is not writeable\r\n",
      "Requirement already satisfied: transparent-background in /home/bulat/.local/lib/python3.10/site-packages (1.3.2)\r\n",
      "Requirement already satisfied: easydict>=1.10 in /home/bulat/.local/lib/python3.10/site-packages (from transparent-background) (1.13)\r\n",
      "Requirement already satisfied: timm>=0.6.11 in /home/bulat/.local/lib/python3.10/site-packages (from transparent-background) (1.0.9)\r\n",
      "Requirement already satisfied: flet>=0.23.1 in /home/bulat/.local/lib/python3.10/site-packages (from transparent-background) (0.24.0)\r\n",
      "Requirement already satisfied: torchvision>=0.8.2 in /home/bulat/.local/lib/python3.10/site-packages (from transparent-background) (0.19.0+cu124)\r\n",
      "Requirement already satisfied: pyyaml>=6.0 in /home/bulat/.local/lib/python3.10/site-packages (from transparent-background) (6.0.2)\r\n",
      "Requirement already satisfied: gdown>=4.5.4 in /home/bulat/.local/lib/python3.10/site-packages (from transparent-background) (5.2.0)\r\n",
      "Requirement already satisfied: wget>=3.2 in /home/bulat/.local/lib/python3.10/site-packages (from transparent-background) (3.2)\r\n",
      "Requirement already satisfied: opencv-python>=4.6.0.66 in /home/bulat/.local/lib/python3.10/site-packages (from transparent-background) (4.10.0.84)\r\n",
      "Requirement already satisfied: albumentations>=1.3.1 in /home/bulat/.local/lib/python3.10/site-packages (from transparent-background) (1.4.14)\r\n",
      "Requirement already satisfied: tqdm>=4.64.1 in /home/bulat/.local/lib/python3.10/site-packages (from transparent-background) (4.66.5)\r\n",
      "Requirement already satisfied: kornia>=0.5.4 in /home/bulat/.local/lib/python3.10/site-packages (from transparent-background) (0.7.3)\r\n",
      "Requirement already satisfied: torch>=1.7.1 in /home/bulat/.local/lib/python3.10/site-packages (from transparent-background) (2.4.0+cu124)\r\n",
      "Requirement already satisfied: opencv-python-headless>=4.9.0.80 in /home/bulat/.local/lib/python3.10/site-packages (from albumentations>=1.3.1->transparent-background) (4.10.0.84)\r\n",
      "Requirement already satisfied: pydantic>=2.7.0 in /home/bulat/.local/lib/python3.10/site-packages (from albumentations>=1.3.1->transparent-background) (2.8.2)\r\n",
      "Requirement already satisfied: eval-type-backport in /home/bulat/.local/lib/python3.10/site-packages (from albumentations>=1.3.1->transparent-background) (0.2.0)\r\n",
      "Requirement already satisfied: numpy>=1.24.4 in /home/bulat/.local/lib/python3.10/site-packages (from albumentations>=1.3.1->transparent-background) (1.26.4)\r\n",
      "Requirement already satisfied: scikit-image>=0.21.0 in /home/bulat/.local/lib/python3.10/site-packages (from albumentations>=1.3.1->transparent-background) (0.24.0)\r\n",
      "Requirement already satisfied: albucore>=0.0.13 in /home/bulat/.local/lib/python3.10/site-packages (from albumentations>=1.3.1->transparent-background) (0.0.14)\r\n",
      "Requirement already satisfied: typing-extensions>=4.9.0 in /home/bulat/.local/lib/python3.10/site-packages (from albumentations>=1.3.1->transparent-background) (4.12.2)\r\n",
      "Requirement already satisfied: scipy>=1.10.0 in /home/bulat/.local/lib/python3.10/site-packages (from albumentations>=1.3.1->transparent-background) (1.11.4)\r\n",
      "Requirement already satisfied: cookiecutter<3.0.0,>=2.6.0 in /home/bulat/.local/lib/python3.10/site-packages (from flet>=0.23.1->transparent-background) (2.6.0)\r\n",
      "Requirement already satisfied: qrcode<8.0.0,>=7.4.2 in /home/bulat/.local/lib/python3.10/site-packages (from flet>=0.23.1->transparent-background) (7.4.2)\r\n",
      "Collecting packaging<24.0,>=23.1\r\n",
      "  Using cached packaging-23.2-py3-none-any.whl (53 kB)\r\n",
      "Requirement already satisfied: flet-runtime==0.24.0 in /home/bulat/.local/lib/python3.10/site-packages (from flet>=0.23.1->transparent-background) (0.24.0)\r\n",
      "Requirement already satisfied: uvicorn[standard]<1,>=0 in /home/bulat/.local/lib/python3.10/site-packages (from flet>=0.23.1->transparent-background) (0.30.6)\r\n",
      "Requirement already satisfied: watchdog<5.0.0,>=4.0.0 in /home/bulat/.local/lib/python3.10/site-packages (from flet>=0.23.1->transparent-background) (4.0.2)\r\n",
      "Requirement already satisfied: fastapi<1,>=0 in /home/bulat/.local/lib/python3.10/site-packages (from flet>=0.23.1->transparent-background) (0.112.2)\r\n",
      "Requirement already satisfied: oauthlib<4.0.0,>=3.2.2 in /home/bulat/.local/lib/python3.10/site-packages (from flet-runtime==0.24.0->flet>=0.23.1->transparent-background) (3.2.2)\r\n",
      "Requirement already satisfied: flet-core==0.24.0 in /home/bulat/.local/lib/python3.10/site-packages (from flet-runtime==0.24.0->flet>=0.23.1->transparent-background) (0.24.0)\r\n",
      "Requirement already satisfied: httpx<1,>=0 in /home/bulat/.local/lib/python3.10/site-packages (from flet-runtime==0.24.0->flet>=0.23.1->transparent-background) (0.27.0)\r\n",
      "Requirement already satisfied: repath<0.10.0,>=0.9.0 in /home/bulat/.local/lib/python3.10/site-packages (from flet-core==0.24.0->flet-runtime==0.24.0->flet>=0.23.1->transparent-background) (0.9.0)\r\n",
      "Requirement already satisfied: requests[socks] in /home/bulat/.local/lib/python3.10/site-packages (from gdown>=4.5.4->transparent-background) (2.32.3)\r\n",
      "Requirement already satisfied: beautifulsoup4 in /home/bulat/.local/lib/python3.10/site-packages (from gdown>=4.5.4->transparent-background) (4.12.3)\r\n",
      "Requirement already satisfied: filelock in /home/bulat/.local/lib/python3.10/site-packages (from gdown>=4.5.4->transparent-background) (3.15.4)\r\n",
      "Requirement already satisfied: kornia-rs>=0.1.0 in /home/bulat/.local/lib/python3.10/site-packages (from kornia>=0.5.4->transparent-background) (0.1.5)\r\n",
      "Requirement already satisfied: safetensors in /home/bulat/.local/lib/python3.10/site-packages (from timm>=0.6.11->transparent-background) (0.4.4)\r\n",
      "Requirement already satisfied: huggingface_hub in /home/bulat/.local/lib/python3.10/site-packages (from timm>=0.6.11->transparent-background) (0.24.6)\r\n",
      "Requirement already satisfied: nvidia-cuda-cupti-cu12==12.4.99 in /home/bulat/.local/lib/python3.10/site-packages (from torch>=1.7.1->transparent-background) (12.4.99)\r\n",
      "Requirement already satisfied: triton==3.0.0 in /home/bulat/.local/lib/python3.10/site-packages (from torch>=1.7.1->transparent-background) (3.0.0)\r\n",
      "Requirement already satisfied: nvidia-curand-cu12==10.3.5.119 in /home/bulat/.local/lib/python3.10/site-packages (from torch>=1.7.1->transparent-background) (10.3.5.119)\r\n",
      "Requirement already satisfied: nvidia-cufft-cu12==11.2.0.44 in /home/bulat/.local/lib/python3.10/site-packages (from torch>=1.7.1->transparent-background) (11.2.0.44)\r\n",
      "Requirement already satisfied: nvidia-nvjitlink-cu12==12.4.99 in /home/bulat/.local/lib/python3.10/site-packages (from torch>=1.7.1->transparent-background) (12.4.99)\r\n",
      "Requirement already satisfied: nvidia-cuda-nvrtc-cu12==12.4.99 in /home/bulat/.local/lib/python3.10/site-packages (from torch>=1.7.1->transparent-background) (12.4.99)\r\n",
      "Requirement already satisfied: nvidia-cusparse-cu12==12.3.0.142 in /home/bulat/.local/lib/python3.10/site-packages (from torch>=1.7.1->transparent-background) (12.3.0.142)\r\n",
      "Requirement already satisfied: networkx in /home/bulat/.local/lib/python3.10/site-packages (from torch>=1.7.1->transparent-background) (3.3)\r\n",
      "Requirement already satisfied: nvidia-cublas-cu12==12.4.2.65 in /home/bulat/.local/lib/python3.10/site-packages (from torch>=1.7.1->transparent-background) (12.4.2.65)\r\n",
      "Requirement already satisfied: nvidia-cusolver-cu12==11.6.0.99 in /home/bulat/.local/lib/python3.10/site-packages (from torch>=1.7.1->transparent-background) (11.6.0.99)\r\n",
      "Requirement already satisfied: nvidia-cudnn-cu12==9.1.0.70 in /home/bulat/.local/lib/python3.10/site-packages (from torch>=1.7.1->transparent-background) (9.1.0.70)\r\n",
      "Requirement already satisfied: nvidia-nccl-cu12==2.20.5 in /home/bulat/.local/lib/python3.10/site-packages (from torch>=1.7.1->transparent-background) (2.20.5)\r\n",
      "Requirement already satisfied: nvidia-nvtx-cu12==12.4.99 in /home/bulat/.local/lib/python3.10/site-packages (from torch>=1.7.1->transparent-background) (12.4.99)\r\n",
      "Requirement already satisfied: fsspec in /home/bulat/.local/lib/python3.10/site-packages (from torch>=1.7.1->transparent-background) (2024.9.0)\r\n",
      "Requirement already satisfied: sympy in /home/bulat/.local/lib/python3.10/site-packages (from torch>=1.7.1->transparent-background) (1.13.2)\r\n",
      "Requirement already satisfied: jinja2 in /home/bulat/.local/lib/python3.10/site-packages (from torch>=1.7.1->transparent-background) (3.1.4)\r\n",
      "Requirement already satisfied: nvidia-cuda-runtime-cu12==12.4.99 in /home/bulat/.local/lib/python3.10/site-packages (from torch>=1.7.1->transparent-background) (12.4.99)\r\n",
      "Requirement already satisfied: pillow!=8.3.*,>=5.3.0 in /home/bulat/.local/lib/python3.10/site-packages (from torchvision>=0.8.2->transparent-background) (10.4.0)\r\n",
      "Requirement already satisfied: binaryornot>=0.4.4 in /home/bulat/.local/lib/python3.10/site-packages (from cookiecutter<3.0.0,>=2.6.0->flet>=0.23.1->transparent-background) (0.4.4)\r\n",
      "Requirement already satisfied: rich in /home/bulat/.local/lib/python3.10/site-packages (from cookiecutter<3.0.0,>=2.6.0->flet>=0.23.1->transparent-background) (13.8.1)\r\n",
      "Requirement already satisfied: python-slugify>=4.0.0 in /home/bulat/.local/lib/python3.10/site-packages (from cookiecutter<3.0.0,>=2.6.0->flet>=0.23.1->transparent-background) (8.0.4)\r\n",
      "Requirement already satisfied: arrow in /home/bulat/.local/lib/python3.10/site-packages (from cookiecutter<3.0.0,>=2.6.0->flet>=0.23.1->transparent-background) (1.3.0)\r\n",
      "Requirement already satisfied: click<9.0.0,>=7.0 in /home/bulat/.local/lib/python3.10/site-packages (from cookiecutter<3.0.0,>=2.6.0->flet>=0.23.1->transparent-background) (8.1.7)\r\n",
      "Requirement already satisfied: starlette<0.39.0,>=0.37.2 in /home/bulat/.local/lib/python3.10/site-packages (from fastapi<1,>=0->flet>=0.23.1->transparent-background) (0.38.3)\r\n",
      "Requirement already satisfied: MarkupSafe>=2.0 in /home/bulat/.local/lib/python3.10/site-packages (from jinja2->torch>=1.7.1->transparent-background) (2.1.5)\r\n",
      "Requirement already satisfied: pydantic-core==2.20.1 in /home/bulat/.local/lib/python3.10/site-packages (from pydantic>=2.7.0->albumentations>=1.3.1->transparent-background) (2.20.1)\r\n",
      "Requirement already satisfied: annotated-types>=0.4.0 in /home/bulat/.local/lib/python3.10/site-packages (from pydantic>=2.7.0->albumentations>=1.3.1->transparent-background) (0.7.0)\r\n",
      "Requirement already satisfied: pypng in /home/bulat/.local/lib/python3.10/site-packages (from qrcode<8.0.0,>=7.4.2->flet>=0.23.1->transparent-background) (0.20220715.0)\r\n",
      "Requirement already satisfied: lazy-loader>=0.4 in /home/bulat/.local/lib/python3.10/site-packages (from scikit-image>=0.21.0->albumentations>=1.3.1->transparent-background) (0.4)\r\n",
      "Requirement already satisfied: tifffile>=2022.8.12 in /home/bulat/.local/lib/python3.10/site-packages (from scikit-image>=0.21.0->albumentations>=1.3.1->transparent-background) (2024.8.30)\r\n",
      "Requirement already satisfied: imageio>=2.33 in /home/bulat/.local/lib/python3.10/site-packages (from scikit-image>=0.21.0->albumentations>=1.3.1->transparent-background) (2.35.1)\r\n",
      "Requirement already satisfied: h11>=0.8 in /home/bulat/.local/lib/python3.10/site-packages (from uvicorn[standard]<1,>=0->flet>=0.23.1->transparent-background) (0.14.0)\r\n",
      "Requirement already satisfied: httptools>=0.5.0 in /home/bulat/.local/lib/python3.10/site-packages (from uvicorn[standard]<1,>=0->flet>=0.23.1->transparent-background) (0.6.1)\r\n",
      "Requirement already satisfied: watchfiles>=0.13 in /home/bulat/.local/lib/python3.10/site-packages (from uvicorn[standard]<1,>=0->flet>=0.23.1->transparent-background) (0.24.0)\r\n",
      "Requirement already satisfied: uvloop!=0.15.0,!=0.15.1,>=0.14.0 in /home/bulat/.local/lib/python3.10/site-packages (from uvicorn[standard]<1,>=0->flet>=0.23.1->transparent-background) (0.20.0)\r\n",
      "Requirement already satisfied: websockets>=10.4 in /home/bulat/.local/lib/python3.10/site-packages (from uvicorn[standard]<1,>=0->flet>=0.23.1->transparent-background) (13.0.1)\r\n",
      "Requirement already satisfied: python-dotenv>=0.13 in /home/bulat/.local/lib/python3.10/site-packages (from uvicorn[standard]<1,>=0->flet>=0.23.1->transparent-background) (1.0.1)\r\n",
      "Requirement already satisfied: soupsieve>1.2 in /home/bulat/.local/lib/python3.10/site-packages (from beautifulsoup4->gdown>=4.5.4->transparent-background) (2.6)\r\n",
      "Requirement already satisfied: urllib3<3,>=1.21.1 in /home/bulat/.local/lib/python3.10/site-packages (from requests[socks]->gdown>=4.5.4->transparent-background) (1.26.20)\r\n",
      "Requirement already satisfied: charset-normalizer<4,>=2 in /home/bulat/.local/lib/python3.10/site-packages (from requests[socks]->gdown>=4.5.4->transparent-background) (3.3.2)\r\n",
      "Requirement already satisfied: idna<4,>=2.5 in /home/bulat/.local/lib/python3.10/site-packages (from requests[socks]->gdown>=4.5.4->transparent-background) (3.10)\r\n",
      "Requirement already satisfied: certifi>=2017.4.17 in /home/bulat/.local/lib/python3.10/site-packages (from requests[socks]->gdown>=4.5.4->transparent-background) (2024.8.30)\r\n",
      "Requirement already satisfied: PySocks!=1.5.7,>=1.5.6 in /home/bulat/.local/lib/python3.10/site-packages (from requests[socks]->gdown>=4.5.4->transparent-background) (1.7.1)\r\n",
      "Requirement already satisfied: mpmath<1.4,>=1.1.0 in /home/bulat/.local/lib/python3.10/site-packages (from sympy->torch>=1.7.1->transparent-background) (1.3.0)\r\n",
      "Requirement already satisfied: chardet>=3.0.2 in /home/bulat/.local/lib/python3.10/site-packages (from binaryornot>=0.4.4->cookiecutter<3.0.0,>=2.6.0->flet>=0.23.1->transparent-background) (5.2.0)\r\n",
      "Requirement already satisfied: anyio in /home/bulat/.local/lib/python3.10/site-packages (from httpx<1,>=0->flet-runtime==0.24.0->flet>=0.23.1->transparent-background) (4.4.0)\r\n",
      "Requirement already satisfied: httpcore==1.* in /home/bulat/.local/lib/python3.10/site-packages (from httpx<1,>=0->flet-runtime==0.24.0->flet>=0.23.1->transparent-background) (1.0.5)\r\n",
      "Requirement already satisfied: sniffio in /home/bulat/.local/lib/python3.10/site-packages (from httpx<1,>=0->flet-runtime==0.24.0->flet>=0.23.1->transparent-background) (1.3.1)\r\n",
      "Requirement already satisfied: text-unidecode>=1.3 in /home/bulat/.local/lib/python3.10/site-packages (from python-slugify>=4.0.0->cookiecutter<3.0.0,>=2.6.0->flet>=0.23.1->transparent-background) (1.3)\r\n",
      "Requirement already satisfied: types-python-dateutil>=2.8.10 in /home/bulat/.local/lib/python3.10/site-packages (from arrow->cookiecutter<3.0.0,>=2.6.0->flet>=0.23.1->transparent-background) (2.9.0.20240821)\r\n",
      "Requirement already satisfied: python-dateutil>=2.7.0 in /home/bulat/.local/lib/python3.10/site-packages (from arrow->cookiecutter<3.0.0,>=2.6.0->flet>=0.23.1->transparent-background) (2.9.0.post0)\r\n",
      "Requirement already satisfied: pygments<3.0.0,>=2.13.0 in /home/bulat/.local/lib/python3.10/site-packages (from rich->cookiecutter<3.0.0,>=2.6.0->flet>=0.23.1->transparent-background) (2.18.0)\r\n",
      "Requirement already satisfied: markdown-it-py>=2.2.0 in /home/bulat/.local/lib/python3.10/site-packages (from rich->cookiecutter<3.0.0,>=2.6.0->flet>=0.23.1->transparent-background) (3.0.0)\r\n",
      "Requirement already satisfied: exceptiongroup>=1.0.2 in /home/bulat/.local/lib/python3.10/site-packages (from anyio->httpx<1,>=0->flet-runtime==0.24.0->flet>=0.23.1->transparent-background) (1.2.2)\r\n",
      "Requirement already satisfied: mdurl~=0.1 in /home/bulat/.local/lib/python3.10/site-packages (from markdown-it-py>=2.2.0->rich->cookiecutter<3.0.0,>=2.6.0->flet>=0.23.1->transparent-background) (0.1.2)\r\n",
      "Requirement already satisfied: six>=1.5 in /home/bulat/.local/lib/python3.10/site-packages (from python-dateutil>=2.7.0->arrow->cookiecutter<3.0.0,>=2.6.0->flet>=0.23.1->transparent-background) (1.16.0)\r\n",
      "Installing collected packages: packaging\r\n",
      "  Attempting uninstall: packaging\r\n",
      "    Found existing installation: packaging 24.1\r\n",
      "    Uninstalling packaging-24.1:\r\n",
      "      Successfully uninstalled packaging-24.1\r\n",
      "\u001B[31mERROR: pip's dependency resolver does not currently take into account all the packages that are installed. This behaviour is the source of the following dependency conflicts.\r\n",
      "datasets 2.21.0 requires fsspec[http]<=2024.6.1,>=2023.1.0, but you have fsspec 2024.9.0 which is incompatible.\u001B[0m\u001B[31m\r\n",
      "\u001B[0mSuccessfully installed packaging-23.2\r\n",
      "Token is valid (permission: write).\n",
      "Your token has been saved in your configured git credential helpers (store).\n",
      "Your token has been saved to /home/bulat/.cache/huggingface/token\n",
      "Login successful\n"
     ]
    }
   ],
   "execution_count": 3
  },
  {
   "cell_type": "code",
   "id": "initial_id",
   "metadata": {
    "collapsed": true,
    "ExecuteTime": {
     "end_time": "2024-10-27T16:09:03.272525Z",
     "start_time": "2024-10-27T16:08:30.240782Z"
    }
   },
   "source": [
    "from datasets import load_dataset\n",
    "from huggingface_hub import HfApi\n",
    "from transparent_background import Remover\n",
    "import os\n",
    "from PIL import Image\n",
    "\n",
    "dataset = load_dataset(\"imagefolder\", data_dir=INPUT_DIR, split=\"train\")\n",
    "\n",
    "mask_dir = \"../data/monin/mask_dataset\"\n",
    "os.makedirs(mask_dir, exist_ok=True)\n",
    "\n",
    "for i, sample in enumerate(dataset):\n",
    "    img_path = sample[\"image\"]\n",
    "    img = Image.open(img_path)\n",
    "\n",
    "    mask = Remover().process(img, type=\"map\")\n",
    "\n",
    "    mask.save(os.path.join(mask_dir, f\"mask_{i}.png\"))\n",
    "\n",
    "mask_dataset = load_dataset(\"imagefolder\", data_dir=mask_dir, split=\"train\")\n",
    "\n",
    "api = HfApi()\n",
    "api.create_repo(PUSH_PATH, repo_type=\"dataset\", private=False, exist_ok=True)\n",
    "mask_dataset.push_to_hub(PUSH_PATH)\n"
   ],
   "outputs": [
    {
     "name": "stderr",
     "output_type": "stream",
     "text": [
      "/home/bulat/.local/lib/python3.10/site-packages/albumentations/__init__.py:13: UserWarning: A new version of Albumentations is available: 1.4.20 (you have 1.4.14). Upgrade using: pip install -U albumentations. To disable automatic update checks, set the environment variable NO_ALBUMENTATIONS_UPDATE to 1.\n",
      "  check_for_updates()\n",
      "/home/bulat/.local/lib/python3.10/site-packages/kornia/feature/lightglue.py:44: FutureWarning: `torch.cuda.amp.custom_fwd(args...)` is deprecated. Please use `torch.amp.custom_fwd(args..., device_type='cuda')` instead.\n",
      "  @torch.cuda.amp.custom_fwd(cast_inputs=torch.float32)\n"
     ]
    },
    {
     "data": {
      "text/plain": [
       "Resolving data files:   0%|          | 0/550 [00:00<?, ?it/s]"
      ],
      "application/vnd.jupyter.widget-view+json": {
       "version_major": 2,
       "version_minor": 0,
       "model_id": "7142381e5a214896a110dca88b62c4be"
      }
     },
     "metadata": {},
     "output_type": "display_data"
    },
    {
     "data": {
      "text/plain": [
       "Resolving data files:   0%|          | 0/139 [00:00<?, ?it/s]"
      ],
      "application/vnd.jupyter.widget-view+json": {
       "version_major": 2,
       "version_minor": 0,
       "model_id": "50a62a83af4e4043957c496f6737c907"
      }
     },
     "metadata": {},
     "output_type": "display_data"
    },
    {
     "data": {
      "text/plain": [
       "Downloading data:   0%|          | 0/552 [00:00<?, ?files/s]"
      ],
      "application/vnd.jupyter.widget-view+json": {
       "version_major": 2,
       "version_minor": 0,
       "model_id": "b588ecbbd6b54e94bb76fc32e0037727"
      }
     },
     "metadata": {},
     "output_type": "display_data"
    },
    {
     "data": {
      "text/plain": [
       "Downloading data:   0%|          | 0/141 [00:00<?, ?files/s]"
      ],
      "application/vnd.jupyter.widget-view+json": {
       "version_major": 2,
       "version_minor": 0,
       "model_id": "093a39da5f6244baba90863cf58ecaed"
      }
     },
     "metadata": {},
     "output_type": "display_data"
    },
    {
     "ename": "ValueError",
     "evalue": "Metadata files /mnt/c/Users/ahmat/PycharmProjects/F24-PMLDL-Project/data/monin/combined_dataset/train/metadata.jsonl and /mnt/c/Users/ahmat/PycharmProjects/F24-PMLDL-Project/data/monin/combined_dataset/test/metadata.jsonl have different features: ('/mnt/c/Users/ahmat/PycharmProjects/F24-PMLDL-Project/data/monin/combined_dataset/test/metadata.jsonl', {'name': Value(dtype='string', id=None), 'recipie': Value(dtype='string', id=None), 'category': Value(dtype='string', id=None), 'image_ext': Value(dtype='string', id=None), 'image_url': Value(dtype='string', id=None), 'file_name': Value(dtype='string', id=None), 'text': Value(dtype='string', id=None)}) != {'text': Value(dtype='string', id=None), 'file_name': Value(dtype='string', id=None)}",
     "output_type": "error",
     "traceback": [
      "\u001B[0;31m---------------------------------------------------------------------------\u001B[0m",
      "\u001B[0;31mValueError\u001B[0m                                Traceback (most recent call last)",
      "Cell \u001B[0;32mIn[4], line 7\u001B[0m\n\u001B[1;32m      4\u001B[0m \u001B[38;5;28;01mimport\u001B[39;00m \u001B[38;5;21;01mos\u001B[39;00m\n\u001B[1;32m      5\u001B[0m \u001B[38;5;28;01mfrom\u001B[39;00m \u001B[38;5;21;01mPIL\u001B[39;00m \u001B[38;5;28;01mimport\u001B[39;00m Image\n\u001B[0;32m----> 7\u001B[0m dataset \u001B[38;5;241m=\u001B[39m \u001B[43mload_dataset\u001B[49m\u001B[43m(\u001B[49m\u001B[38;5;124;43m\"\u001B[39;49m\u001B[38;5;124;43mimagefolder\u001B[39;49m\u001B[38;5;124;43m\"\u001B[39;49m\u001B[43m,\u001B[49m\u001B[43m \u001B[49m\u001B[43mdata_dir\u001B[49m\u001B[38;5;241;43m=\u001B[39;49m\u001B[38;5;124;43m\"\u001B[39;49m\u001B[38;5;124;43m../data/monin/combined_dataset\u001B[39;49m\u001B[38;5;124;43m\"\u001B[39;49m\u001B[43m,\u001B[49m\u001B[43m \u001B[49m\u001B[43msplit\u001B[49m\u001B[38;5;241;43m=\u001B[39;49m\u001B[38;5;124;43m\"\u001B[39;49m\u001B[38;5;124;43mtrain\u001B[39;49m\u001B[38;5;124;43m\"\u001B[39;49m\u001B[43m)\u001B[49m\n\u001B[1;32m      9\u001B[0m mask_dir \u001B[38;5;241m=\u001B[39m \u001B[38;5;124m\"\u001B[39m\u001B[38;5;124m../data/monin/mask_dataset\u001B[39m\u001B[38;5;124m\"\u001B[39m\n\u001B[1;32m     10\u001B[0m os\u001B[38;5;241m.\u001B[39mmakedirs(mask_dir, exist_ok\u001B[38;5;241m=\u001B[39m\u001B[38;5;28;01mTrue\u001B[39;00m)\n",
      "File \u001B[0;32m~/.local/lib/python3.10/site-packages/datasets/load.py:2628\u001B[0m, in \u001B[0;36mload_dataset\u001B[0;34m(path, name, data_dir, data_files, split, cache_dir, features, download_config, download_mode, verification_mode, ignore_verifications, keep_in_memory, save_infos, revision, token, use_auth_token, task, streaming, num_proc, storage_options, trust_remote_code, **config_kwargs)\u001B[0m\n\u001B[1;32m   2625\u001B[0m     \u001B[38;5;28;01mreturn\u001B[39;00m builder_instance\u001B[38;5;241m.\u001B[39mas_streaming_dataset(split\u001B[38;5;241m=\u001B[39msplit)\n\u001B[1;32m   2627\u001B[0m \u001B[38;5;66;03m# Download and prepare data\u001B[39;00m\n\u001B[0;32m-> 2628\u001B[0m \u001B[43mbuilder_instance\u001B[49m\u001B[38;5;241;43m.\u001B[39;49m\u001B[43mdownload_and_prepare\u001B[49m\u001B[43m(\u001B[49m\n\u001B[1;32m   2629\u001B[0m \u001B[43m    \u001B[49m\u001B[43mdownload_config\u001B[49m\u001B[38;5;241;43m=\u001B[39;49m\u001B[43mdownload_config\u001B[49m\u001B[43m,\u001B[49m\n\u001B[1;32m   2630\u001B[0m \u001B[43m    \u001B[49m\u001B[43mdownload_mode\u001B[49m\u001B[38;5;241;43m=\u001B[39;49m\u001B[43mdownload_mode\u001B[49m\u001B[43m,\u001B[49m\n\u001B[1;32m   2631\u001B[0m \u001B[43m    \u001B[49m\u001B[43mverification_mode\u001B[49m\u001B[38;5;241;43m=\u001B[39;49m\u001B[43mverification_mode\u001B[49m\u001B[43m,\u001B[49m\n\u001B[1;32m   2632\u001B[0m \u001B[43m    \u001B[49m\u001B[43mnum_proc\u001B[49m\u001B[38;5;241;43m=\u001B[39;49m\u001B[43mnum_proc\u001B[49m\u001B[43m,\u001B[49m\n\u001B[1;32m   2633\u001B[0m \u001B[43m    \u001B[49m\u001B[43mstorage_options\u001B[49m\u001B[38;5;241;43m=\u001B[39;49m\u001B[43mstorage_options\u001B[49m\u001B[43m,\u001B[49m\n\u001B[1;32m   2634\u001B[0m \u001B[43m\u001B[49m\u001B[43m)\u001B[49m\n\u001B[1;32m   2636\u001B[0m \u001B[38;5;66;03m# Build dataset for splits\u001B[39;00m\n\u001B[1;32m   2637\u001B[0m keep_in_memory \u001B[38;5;241m=\u001B[39m (\n\u001B[1;32m   2638\u001B[0m     keep_in_memory \u001B[38;5;28;01mif\u001B[39;00m keep_in_memory \u001B[38;5;129;01mis\u001B[39;00m \u001B[38;5;129;01mnot\u001B[39;00m \u001B[38;5;28;01mNone\u001B[39;00m \u001B[38;5;28;01melse\u001B[39;00m is_small_dataset(builder_instance\u001B[38;5;241m.\u001B[39minfo\u001B[38;5;241m.\u001B[39mdataset_size)\n\u001B[1;32m   2639\u001B[0m )\n",
      "File \u001B[0;32m~/.local/lib/python3.10/site-packages/datasets/builder.py:1029\u001B[0m, in \u001B[0;36mDatasetBuilder.download_and_prepare\u001B[0;34m(self, output_dir, download_config, download_mode, verification_mode, ignore_verifications, try_from_hf_gcs, dl_manager, base_path, use_auth_token, file_format, max_shard_size, num_proc, storage_options, **download_and_prepare_kwargs)\u001B[0m\n\u001B[1;32m   1027\u001B[0m     \u001B[38;5;28;01mif\u001B[39;00m num_proc \u001B[38;5;129;01mis\u001B[39;00m \u001B[38;5;129;01mnot\u001B[39;00m \u001B[38;5;28;01mNone\u001B[39;00m:\n\u001B[1;32m   1028\u001B[0m         prepare_split_kwargs[\u001B[38;5;124m\"\u001B[39m\u001B[38;5;124mnum_proc\u001B[39m\u001B[38;5;124m\"\u001B[39m] \u001B[38;5;241m=\u001B[39m num_proc\n\u001B[0;32m-> 1029\u001B[0m     \u001B[38;5;28;43mself\u001B[39;49m\u001B[38;5;241;43m.\u001B[39;49m\u001B[43m_download_and_prepare\u001B[49m\u001B[43m(\u001B[49m\n\u001B[1;32m   1030\u001B[0m \u001B[43m        \u001B[49m\u001B[43mdl_manager\u001B[49m\u001B[38;5;241;43m=\u001B[39;49m\u001B[43mdl_manager\u001B[49m\u001B[43m,\u001B[49m\n\u001B[1;32m   1031\u001B[0m \u001B[43m        \u001B[49m\u001B[43mverification_mode\u001B[49m\u001B[38;5;241;43m=\u001B[39;49m\u001B[43mverification_mode\u001B[49m\u001B[43m,\u001B[49m\n\u001B[1;32m   1032\u001B[0m \u001B[43m        \u001B[49m\u001B[38;5;241;43m*\u001B[39;49m\u001B[38;5;241;43m*\u001B[39;49m\u001B[43mprepare_split_kwargs\u001B[49m\u001B[43m,\u001B[49m\n\u001B[1;32m   1033\u001B[0m \u001B[43m        \u001B[49m\u001B[38;5;241;43m*\u001B[39;49m\u001B[38;5;241;43m*\u001B[39;49m\u001B[43mdownload_and_prepare_kwargs\u001B[49m\u001B[43m,\u001B[49m\n\u001B[1;32m   1034\u001B[0m \u001B[43m    \u001B[49m\u001B[43m)\u001B[49m\n\u001B[1;32m   1035\u001B[0m \u001B[38;5;66;03m# Sync info\u001B[39;00m\n\u001B[1;32m   1036\u001B[0m \u001B[38;5;28mself\u001B[39m\u001B[38;5;241m.\u001B[39minfo\u001B[38;5;241m.\u001B[39mdataset_size \u001B[38;5;241m=\u001B[39m \u001B[38;5;28msum\u001B[39m(split\u001B[38;5;241m.\u001B[39mnum_bytes \u001B[38;5;28;01mfor\u001B[39;00m split \u001B[38;5;129;01min\u001B[39;00m \u001B[38;5;28mself\u001B[39m\u001B[38;5;241m.\u001B[39minfo\u001B[38;5;241m.\u001B[39msplits\u001B[38;5;241m.\u001B[39mvalues())\n",
      "File \u001B[0;32m~/.local/lib/python3.10/site-packages/datasets/builder.py:1791\u001B[0m, in \u001B[0;36mGeneratorBasedBuilder._download_and_prepare\u001B[0;34m(self, dl_manager, verification_mode, **prepare_splits_kwargs)\u001B[0m\n\u001B[1;32m   1790\u001B[0m \u001B[38;5;28;01mdef\u001B[39;00m \u001B[38;5;21m_download_and_prepare\u001B[39m(\u001B[38;5;28mself\u001B[39m, dl_manager, verification_mode, \u001B[38;5;241m*\u001B[39m\u001B[38;5;241m*\u001B[39mprepare_splits_kwargs):\n\u001B[0;32m-> 1791\u001B[0m     \u001B[38;5;28;43msuper\u001B[39;49m\u001B[43m(\u001B[49m\u001B[43m)\u001B[49m\u001B[38;5;241;43m.\u001B[39;49m\u001B[43m_download_and_prepare\u001B[49m\u001B[43m(\u001B[49m\n\u001B[1;32m   1792\u001B[0m \u001B[43m        \u001B[49m\u001B[43mdl_manager\u001B[49m\u001B[43m,\u001B[49m\n\u001B[1;32m   1793\u001B[0m \u001B[43m        \u001B[49m\u001B[43mverification_mode\u001B[49m\u001B[43m,\u001B[49m\n\u001B[1;32m   1794\u001B[0m \u001B[43m        \u001B[49m\u001B[43mcheck_duplicate_keys\u001B[49m\u001B[38;5;241;43m=\u001B[39;49m\u001B[43mverification_mode\u001B[49m\u001B[43m \u001B[49m\u001B[38;5;241;43m==\u001B[39;49m\u001B[43m \u001B[49m\u001B[43mVerificationMode\u001B[49m\u001B[38;5;241;43m.\u001B[39;49m\u001B[43mBASIC_CHECKS\u001B[49m\n\u001B[1;32m   1795\u001B[0m \u001B[43m        \u001B[49m\u001B[38;5;129;43;01mor\u001B[39;49;00m\u001B[43m \u001B[49m\u001B[43mverification_mode\u001B[49m\u001B[43m \u001B[49m\u001B[38;5;241;43m==\u001B[39;49m\u001B[43m \u001B[49m\u001B[43mVerificationMode\u001B[49m\u001B[38;5;241;43m.\u001B[39;49m\u001B[43mALL_CHECKS\u001B[49m\u001B[43m,\u001B[49m\n\u001B[1;32m   1796\u001B[0m \u001B[43m        \u001B[49m\u001B[38;5;241;43m*\u001B[39;49m\u001B[38;5;241;43m*\u001B[39;49m\u001B[43mprepare_splits_kwargs\u001B[49m\u001B[43m,\u001B[49m\n\u001B[1;32m   1797\u001B[0m \u001B[43m    \u001B[49m\u001B[43m)\u001B[49m\n",
      "File \u001B[0;32m~/.local/lib/python3.10/site-packages/datasets/builder.py:1102\u001B[0m, in \u001B[0;36mDatasetBuilder._download_and_prepare\u001B[0;34m(self, dl_manager, verification_mode, **prepare_split_kwargs)\u001B[0m\n\u001B[1;32m   1100\u001B[0m split_dict \u001B[38;5;241m=\u001B[39m SplitDict(dataset_name\u001B[38;5;241m=\u001B[39m\u001B[38;5;28mself\u001B[39m\u001B[38;5;241m.\u001B[39mdataset_name)\n\u001B[1;32m   1101\u001B[0m split_generators_kwargs \u001B[38;5;241m=\u001B[39m \u001B[38;5;28mself\u001B[39m\u001B[38;5;241m.\u001B[39m_make_split_generators_kwargs(prepare_split_kwargs)\n\u001B[0;32m-> 1102\u001B[0m split_generators \u001B[38;5;241m=\u001B[39m \u001B[38;5;28;43mself\u001B[39;49m\u001B[38;5;241;43m.\u001B[39;49m\u001B[43m_split_generators\u001B[49m\u001B[43m(\u001B[49m\u001B[43mdl_manager\u001B[49m\u001B[43m,\u001B[49m\u001B[43m \u001B[49m\u001B[38;5;241;43m*\u001B[39;49m\u001B[38;5;241;43m*\u001B[39;49m\u001B[43msplit_generators_kwargs\u001B[49m\u001B[43m)\u001B[49m\n\u001B[1;32m   1104\u001B[0m \u001B[38;5;66;03m# Checksums verification\u001B[39;00m\n\u001B[1;32m   1105\u001B[0m \u001B[38;5;28;01mif\u001B[39;00m verification_mode \u001B[38;5;241m==\u001B[39m VerificationMode\u001B[38;5;241m.\u001B[39mALL_CHECKS \u001B[38;5;129;01mand\u001B[39;00m dl_manager\u001B[38;5;241m.\u001B[39mrecord_checksums:\n",
      "File \u001B[0;32m~/.local/lib/python3.10/site-packages/datasets/packaged_modules/folder_based_builder/folder_based_builder.py:184\u001B[0m, in \u001B[0;36mFolderBasedBuilder._split_generators\u001B[0;34m(self, dl_manager)\u001B[0m\n\u001B[1;32m    182\u001B[0m \u001B[38;5;28;01mfor\u001B[39;00m downloaded_metadata_file, metadata_features \u001B[38;5;129;01min\u001B[39;00m features_per_metadata_file:\n\u001B[1;32m    183\u001B[0m     \u001B[38;5;28;01mif\u001B[39;00m metadata_features \u001B[38;5;241m!=\u001B[39m features_per_metadata_file[\u001B[38;5;241m0\u001B[39m][\u001B[38;5;241m1\u001B[39m]:\n\u001B[0;32m--> 184\u001B[0m         \u001B[38;5;28;01mraise\u001B[39;00m \u001B[38;5;167;01mValueError\u001B[39;00m(\n\u001B[1;32m    185\u001B[0m             \u001B[38;5;124mf\u001B[39m\u001B[38;5;124m\"\u001B[39m\u001B[38;5;124mMetadata files \u001B[39m\u001B[38;5;132;01m{\u001B[39;00mdownloaded_metadata_file\u001B[38;5;132;01m}\u001B[39;00m\u001B[38;5;124m and \u001B[39m\u001B[38;5;132;01m{\u001B[39;00mfeatures_per_metadata_file[\u001B[38;5;241m0\u001B[39m][\u001B[38;5;241m0\u001B[39m]\u001B[38;5;132;01m}\u001B[39;00m\u001B[38;5;124m have different features: \u001B[39m\u001B[38;5;132;01m{\u001B[39;00mfeatures_per_metadata_file[\u001B[38;5;241m0\u001B[39m]\u001B[38;5;132;01m}\u001B[39;00m\u001B[38;5;124m != \u001B[39m\u001B[38;5;132;01m{\u001B[39;00mmetadata_features\u001B[38;5;132;01m}\u001B[39;00m\u001B[38;5;124m\"\u001B[39m\n\u001B[1;32m    186\u001B[0m         )\n\u001B[1;32m    187\u001B[0m metadata_features \u001B[38;5;241m=\u001B[39m features_per_metadata_file[\u001B[38;5;241m0\u001B[39m][\u001B[38;5;241m1\u001B[39m]\n\u001B[1;32m    188\u001B[0m \u001B[38;5;28;01mif\u001B[39;00m \u001B[38;5;124m\"\u001B[39m\u001B[38;5;124mfile_name\u001B[39m\u001B[38;5;124m\"\u001B[39m \u001B[38;5;129;01mnot\u001B[39;00m \u001B[38;5;129;01min\u001B[39;00m metadata_features:\n",
      "\u001B[0;31mValueError\u001B[0m: Metadata files /mnt/c/Users/ahmat/PycharmProjects/F24-PMLDL-Project/data/monin/combined_dataset/train/metadata.jsonl and /mnt/c/Users/ahmat/PycharmProjects/F24-PMLDL-Project/data/monin/combined_dataset/test/metadata.jsonl have different features: ('/mnt/c/Users/ahmat/PycharmProjects/F24-PMLDL-Project/data/monin/combined_dataset/test/metadata.jsonl', {'name': Value(dtype='string', id=None), 'recipie': Value(dtype='string', id=None), 'category': Value(dtype='string', id=None), 'image_ext': Value(dtype='string', id=None), 'image_url': Value(dtype='string', id=None), 'file_name': Value(dtype='string', id=None), 'text': Value(dtype='string', id=None)}) != {'text': Value(dtype='string', id=None), 'file_name': Value(dtype='string', id=None)}"
     ]
    }
   ],
   "execution_count": 4
  }
 ],
 "metadata": {
  "kernelspec": {
   "display_name": "Python 3",
   "language": "python",
   "name": "python3"
  },
  "language_info": {
   "codemirror_mode": {
    "name": "ipython",
    "version": 2
   },
   "file_extension": ".py",
   "mimetype": "text/x-python",
   "name": "python",
   "nbconvert_exporter": "python",
   "pygments_lexer": "ipython2",
   "version": "2.7.6"
  }
 },
 "nbformat": 4,
 "nbformat_minor": 5
}
