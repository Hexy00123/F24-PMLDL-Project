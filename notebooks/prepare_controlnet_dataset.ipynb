{
 "cells": [
  {
   "metadata": {
    "ExecuteTime": {
     "end_time": "2024-10-27T16:46:08.915454Z",
     "start_time": "2024-10-27T16:46:08.899517Z"
    }
   },
   "cell_type": "code",
   "source": [
    "INPUT_DIR = \"../data/monin/combined_dataset\"\n",
    "PUSH_PATH = \"ThreeBibas/recipie-mask-image\""
   ],
   "id": "321cdeb072b67155",
   "outputs": [],
   "execution_count": 5
  },
  {
   "metadata": {
    "ExecuteTime": {
     "end_time": "2024-10-27T16:46:21.259921Z",
     "start_time": "2024-10-27T16:46:17.530370Z"
    }
   },
   "cell_type": "code",
   "source": [
    "!git config --global credential.helper store\n",
    "!pip install -q transparent-background\n",
    "from huggingface_hub import login\n",
    "from secret import HF_TOKEN\n",
    "\n",
    "login(token=HF_TOKEN, add_to_git_credential=True)"
   ],
   "id": "f60c5346cfa8832d",
   "outputs": [
    {
     "name": "stdout",
     "output_type": "stream",
     "text": [
      "/bin/bash: warning: setlocale: LC_ALL: cannot change locale (en_US.UTF-8)\r\n",
      "/bin/bash: warning: setlocale: LC_ALL: cannot change locale (en_US.UTF-8)\r\n",
      "Token is valid (permission: write).\n",
      "Your token has been saved in your configured git credential helpers (store).\n",
      "Your token has been saved to /home/bulat/.cache/huggingface/token\n",
      "Login successful\n"
     ]
    }
   ],
   "execution_count": 7
  },
  {
   "cell_type": "code",
   "id": "initial_id",
   "metadata": {
    "collapsed": true,
    "ExecuteTime": {
     "end_time": "2024-10-27T17:32:54.976753Z",
     "start_time": "2024-10-27T17:32:41.933913Z"
    }
   },
   "source": [
    "from datasets import load_dataset, Dataset\n",
    "from huggingface_hub import HfApi\n",
    "from transparent_background import Remover\n",
    "import os\n",
    "from PIL import Image\n",
    "\n",
    "dataset = load_dataset(\"imagefolder\", data_dir=INPUT_DIR)\n",
    "\n",
    "mask_dir = \"../data/monin/mask_dataset\"\n",
    "os.makedirs(mask_dir, exist_ok=True)\n",
    "\n",
    "dataset.keys()"
   ],
   "outputs": [
    {
     "data": {
      "text/plain": [
       "Resolving data files:   0%|          | 0/550 [00:00<?, ?it/s]"
      ],
      "application/vnd.jupyter.widget-view+json": {
       "version_major": 2,
       "version_minor": 0,
       "model_id": "87350d2984f1450b8e79c40a7460e81f"
      }
     },
     "metadata": {},
     "output_type": "display_data"
    },
    {
     "data": {
      "text/plain": [
       "Resolving data files:   0%|          | 0/139 [00:00<?, ?it/s]"
      ],
      "application/vnd.jupyter.widget-view+json": {
       "version_major": 2,
       "version_minor": 0,
       "model_id": "b593fb22b602495aac3a9e311846fa79"
      }
     },
     "metadata": {},
     "output_type": "display_data"
    },
    {
     "data": {
      "text/plain": [
       "dict_keys(['train', 'test'])"
      ]
     },
     "execution_count": 13,
     "metadata": {},
     "output_type": "execute_result"
    }
   ],
   "execution_count": 13
  },
  {
   "metadata": {},
   "cell_type": "code",
   "outputs": [],
   "execution_count": null,
   "source": [
    "for split in dataset.keys():\n",
    "    split_dir = os.path.join(mask_dir, split)\n",
    "    os.makedirs(split_dir, exist_ok=True)\n",
    "    \n",
    "    for i, sample in enumerate(dataset[split]):\n",
    "        img = sample[\"image\"]\n",
    "        \n",
    "        if img.mode != 'RGB':\n",
    "            img = img.convert('RGB')\n",
    "        \n",
    "        mask = Remover().process(img, type=\"map\")\n",
    "        mask.save(os.path.join(split_dir, f\"mask_{i}.png\"))"
   ],
   "id": "410e21d940cfab42"
  },
  {
   "metadata": {
    "ExecuteTime": {
     "end_time": "2024-10-27T18:11:48.068300Z",
     "start_time": "2024-10-27T18:11:23.196788Z"
    }
   },
   "cell_type": "code",
   "source": [
    "from tqdm import tqdm\n",
    "\n",
    "data = []\n",
    "\n",
    "for split in dataset.keys():\n",
    "    for i, sample in tqdm(enumerate(dataset[split])):\n",
    "        img = sample[\"image\"]\n",
    "        text = sample[\"text\"]\n",
    "        \n",
    "        mask_path = os.path.join(mask_dir, split, f\"mask_{i}.png\")\n",
    "        \n",
    "        if os.path.exists(mask_path):\n",
    "            mask = Image.open(mask_path)\n",
    "\n",
    "            data.append({\n",
    "                \"text\": text,\n",
    "                \"conditioning_image\": mask,\n",
    "                \"image\": img\n",
    "            })\n",
    "        else:\n",
    "            print(f\"Mask not found for image {i} in split {split}\")\n",
    "\n",
    "new_dataset = Dataset.from_list(data)\n",
    "\n",
    "api = HfApi()\n",
    "api.create_repo(PUSH_PATH, repo_type=\"dataset\", private=False, exist_ok=True)\n",
    "new_dataset.push_to_hub(PUSH_PATH)"
   ],
   "id": "20b9e3bd27b66efa",
   "outputs": [
    {
     "name": "stderr",
     "output_type": "stream",
     "text": [
      "549it [00:08, 63.92it/s]\n",
      "138it [00:02, 63.33it/s]\n"
     ]
    },
    {
     "data": {
      "text/plain": [
       "Uploading the dataset shards:   0%|          | 0/1 [00:00<?, ?it/s]"
      ],
      "application/vnd.jupyter.widget-view+json": {
       "version_major": 2,
       "version_minor": 0,
       "model_id": "d46000f5b0354275b59a8ae56006cceb"
      }
     },
     "metadata": {},
     "output_type": "display_data"
    },
    {
     "data": {
      "text/plain": [
       "Map:   0%|          | 0/687 [00:00<?, ? examples/s]"
      ],
      "application/vnd.jupyter.widget-view+json": {
       "version_major": 2,
       "version_minor": 0,
       "model_id": "d7056590ef1d42a8a424717207fa515d"
      }
     },
     "metadata": {},
     "output_type": "display_data"
    },
    {
     "data": {
      "text/plain": [
       "Creating parquet from Arrow format:   0%|          | 0/7 [00:00<?, ?ba/s]"
      ],
      "application/vnd.jupyter.widget-view+json": {
       "version_major": 2,
       "version_minor": 0,
       "model_id": "c0ecb47374cf4ff6b3bf103b9d41ff22"
      }
     },
     "metadata": {},
     "output_type": "display_data"
    },
    {
     "data": {
      "text/plain": [
       "CommitInfo(commit_url='https://huggingface.co/datasets/ThreeBibas/recipie-mask-image/commit/b5bfcfb45554d2037630c9467366a5fa295a645b', commit_message='Upload dataset', commit_description='', oid='b5bfcfb45554d2037630c9467366a5fa295a645b', pr_url=None, pr_revision=None, pr_num=None)"
      ]
     },
     "execution_count": 18,
     "metadata": {},
     "output_type": "execute_result"
    }
   ],
   "execution_count": 18
  }
 ],
 "metadata": {
  "kernelspec": {
   "display_name": "Python 3",
   "language": "python",
   "name": "python3"
  },
  "language_info": {
   "codemirror_mode": {
    "name": "ipython",
    "version": 2
   },
   "file_extension": ".py",
   "mimetype": "text/x-python",
   "name": "python",
   "nbconvert_exporter": "python",
   "pygments_lexer": "ipython2",
   "version": "2.7.6"
  }
 },
 "nbformat": 4,
 "nbformat_minor": 5
}
