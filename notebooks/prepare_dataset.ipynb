{
 "cells": [
  {
   "metadata": {},
   "cell_type": "markdown",
   "source": "## Transform for HF dataset",
   "id": "c1b1580cdb0c1c48"
  },
  {
   "cell_type": "code",
   "id": "initial_id",
   "metadata": {
    "collapsed": true,
    "ExecuteTime": {
     "end_time": "2024-10-06T15:52:14.243850Z",
     "start_time": "2024-10-06T15:52:13.849893Z"
    }
   },
   "source": [
    "import pandas as pd\n",
    "\n",
    "data = pd.read_csv('../data/drink_recipies_monin.csv')\n",
    "data.head()"
   ],
   "outputs": [
    {
     "data": {
      "text/plain": [
       "                                  name  \\\n",
       "0  'Luck Of The Irish' Frozen Lemonade   \n",
       "1         4Th Of July Picnic Refresher   \n",
       "2          Adult Key Lime Pie Lemonade   \n",
       "3            After The Siesta Lemonade   \n",
       "4                        Agave Limeade   \n",
       "\n",
       "                                             recipie  category  \\\n",
       "0  3/4 oz. Monin Pistachio Syrup\\n3/4 oz. Monin G...  lemonade   \n",
       "1  1 wedge(s) watermelon\\nice\\n5 oz. green tea\\n1...  lemonade   \n",
       "2  ice\\n1 1/4 oz. citrus vodka\\n3/4 oz. Monin Key...  lemonade   \n",
       "3  1 pinch(es) fresh cilantro\\n1 pinch(es) black ...  lemonade   \n",
       "4  1/2 oz. Monin Agave Organic Nectar\\n3/4 oz. Mo...  lemonade   \n",
       "\n",
       "               image_name image_ext  \\\n",
       "0  1725657501_6166165.png       png   \n",
       "1  1725657506_5769687.png       png   \n",
       "2   1725657511_360125.png       png   \n",
       "3  1725657516_4292703.png       png   \n",
       "4  1725657521_6316235.png       png   \n",
       "\n",
       "                                           image_url  \n",
       "0  https://www.monin.com/media/catalog/product/ca...  \n",
       "1  https://www.monin.com/media/catalog/product/ca...  \n",
       "2  https://www.monin.com/media/catalog/product/ca...  \n",
       "3  https://www.monin.com/media/catalog/product/ca...  \n",
       "4  https://www.monin.com/media/catalog/product/ca...  "
      ],
      "text/html": [
       "<div>\n",
       "<style scoped>\n",
       "    .dataframe tbody tr th:only-of-type {\n",
       "        vertical-align: middle;\n",
       "    }\n",
       "\n",
       "    .dataframe tbody tr th {\n",
       "        vertical-align: top;\n",
       "    }\n",
       "\n",
       "    .dataframe thead th {\n",
       "        text-align: right;\n",
       "    }\n",
       "</style>\n",
       "<table border=\"1\" class=\"dataframe\">\n",
       "  <thead>\n",
       "    <tr style=\"text-align: right;\">\n",
       "      <th></th>\n",
       "      <th>name</th>\n",
       "      <th>recipie</th>\n",
       "      <th>category</th>\n",
       "      <th>image_name</th>\n",
       "      <th>image_ext</th>\n",
       "      <th>image_url</th>\n",
       "    </tr>\n",
       "  </thead>\n",
       "  <tbody>\n",
       "    <tr>\n",
       "      <th>0</th>\n",
       "      <td>'Luck Of The Irish' Frozen Lemonade</td>\n",
       "      <td>3/4 oz. Monin Pistachio Syrup\\n3/4 oz. Monin G...</td>\n",
       "      <td>lemonade</td>\n",
       "      <td>1725657501_6166165.png</td>\n",
       "      <td>png</td>\n",
       "      <td>https://www.monin.com/media/catalog/product/ca...</td>\n",
       "    </tr>\n",
       "    <tr>\n",
       "      <th>1</th>\n",
       "      <td>4Th Of July Picnic Refresher</td>\n",
       "      <td>1 wedge(s) watermelon\\nice\\n5 oz. green tea\\n1...</td>\n",
       "      <td>lemonade</td>\n",
       "      <td>1725657506_5769687.png</td>\n",
       "      <td>png</td>\n",
       "      <td>https://www.monin.com/media/catalog/product/ca...</td>\n",
       "    </tr>\n",
       "    <tr>\n",
       "      <th>2</th>\n",
       "      <td>Adult Key Lime Pie Lemonade</td>\n",
       "      <td>ice\\n1 1/4 oz. citrus vodka\\n3/4 oz. Monin Key...</td>\n",
       "      <td>lemonade</td>\n",
       "      <td>1725657511_360125.png</td>\n",
       "      <td>png</td>\n",
       "      <td>https://www.monin.com/media/catalog/product/ca...</td>\n",
       "    </tr>\n",
       "    <tr>\n",
       "      <th>3</th>\n",
       "      <td>After The Siesta Lemonade</td>\n",
       "      <td>1 pinch(es) fresh cilantro\\n1 pinch(es) black ...</td>\n",
       "      <td>lemonade</td>\n",
       "      <td>1725657516_4292703.png</td>\n",
       "      <td>png</td>\n",
       "      <td>https://www.monin.com/media/catalog/product/ca...</td>\n",
       "    </tr>\n",
       "    <tr>\n",
       "      <th>4</th>\n",
       "      <td>Agave Limeade</td>\n",
       "      <td>1/2 oz. Monin Agave Organic Nectar\\n3/4 oz. Mo...</td>\n",
       "      <td>lemonade</td>\n",
       "      <td>1725657521_6316235.png</td>\n",
       "      <td>png</td>\n",
       "      <td>https://www.monin.com/media/catalog/product/ca...</td>\n",
       "    </tr>\n",
       "  </tbody>\n",
       "</table>\n",
       "</div>"
      ]
     },
     "execution_count": 1,
     "metadata": {},
     "output_type": "execute_result"
    }
   ],
   "execution_count": 1
  },
  {
   "metadata": {},
   "cell_type": "code",
   "outputs": [],
   "execution_count": null,
   "source": "# check duplicates\n",
   "id": "b17e108f8df0a144"
  },
  {
   "metadata": {
    "ExecuteTime": {
     "end_time": "2024-09-22T16:04:04.214830Z",
     "start_time": "2024-09-22T16:04:00.921059Z"
    }
   },
   "cell_type": "code",
   "source": [
    "import os\n",
    "import shutil\n",
    "import random\n",
    "\n",
    "# Create necessary directories\n",
    "train_dir = '../data/monin/combined_dataset/train'\n",
    "test_dir = '../data/monin/combined_dataset/test'\n",
    "\n",
    "os.makedirs(train_dir, exist_ok=True)\n",
    "os.makedirs(test_dir, exist_ok=True)\n",
    "\n",
    "# Define source folders\n",
    "source_folders = ['coffee', 'cold_tea', 'lemonade']\n",
    "source_paths = [f'../data/monin/{folder}' for folder in source_folders]\n",
    "\n",
    "# Collect all files from the source folders\n",
    "all_files = []\n",
    "for folder in source_paths:\n",
    "    for file in os.listdir(folder):\n",
    "        file_path = os.path.join(folder, file)\n",
    "        if os.path.isfile(file_path):  # Ensure it's a file\n",
    "            all_files.append(file_path)\n",
    "\n",
    "# Shuffle the files to randomize the split\n",
    "random.shuffle(all_files)\n",
    "\n",
    "# Calculate the split index\n",
    "split_idx = int(0.8 * len(all_files))\n",
    "\n",
    "# Split files into train and test sets\n",
    "train_files = all_files[:split_idx]\n",
    "test_files = all_files[split_idx:]\n",
    "\n",
    "# Move the files into the respective directories\n",
    "for file in train_files:\n",
    "    shutil.copy(file, train_dir)\n",
    "\n",
    "for file in test_files:\n",
    "    shutil.copy(file, test_dir)\n",
    "\n",
    "print(f\"Total files: {len(all_files)}, Train: {len(train_files)}, Test: {len(test_files)}\")\n"
   ],
   "id": "cd3d53f0966fd050",
   "outputs": [
    {
     "name": "stdout",
     "output_type": "stream",
     "text": [
      "Total files: 687, Train: 549, Test: 138\n"
     ]
    }
   ],
   "execution_count": 4
  },
  {
   "metadata": {
    "ExecuteTime": {
     "end_time": "2024-09-22T16:06:45.103002Z",
     "start_time": "2024-09-22T16:06:45.092004Z"
    }
   },
   "cell_type": "code",
   "source": "data.columns",
   "id": "aa599f2a8f2da51f",
   "outputs": [
    {
     "data": {
      "text/plain": [
       "Index(['name', 'recipie', 'category', 'image_name', 'image_ext', 'image_url'], dtype='object')"
      ]
     },
     "execution_count": 6,
     "metadata": {},
     "output_type": "execute_result"
    }
   ],
   "execution_count": 6
  },
  {
   "metadata": {
    "ExecuteTime": {
     "end_time": "2024-09-22T16:45:21.474616Z",
     "start_time": "2024-09-22T16:45:21.422012Z"
    }
   },
   "cell_type": "code",
   "source": [
    "# now add metadata.jsonl to train and test folders\n",
    "import json\n",
    "metadata = data.to_dict(orient='records')\n",
    "\n",
    "# before dumpingto json, change 'image_name' to 'file_name'\n",
    "for item in metadata:\n",
    "    item['file_name'] = item.pop('image_name')\n",
    "    \n",
    "# create a column \"text\" with format\n",
    "#Name: {name}, Recipie: {recipie}, Category: {category}\n",
    "for item in metadata:\n",
    "    item['text'] = f\"Name: {item['name']}; Recipie: {item['recipie']}; Category: {item['category']}\"\n",
    "\n",
    "\n",
    "# dump metadata to json to metadata.jsonl\n",
    "with open(os.path.join(train_dir, 'metadata.jsonl'), 'w') as f:\n",
    "    for item in metadata:\n",
    "        json.dump(item, f)\n",
    "        f.write('\\n')\n",
    "        \n",
    "with open(os.path.join(test_dir, 'metadata.jsonl'), 'w') as f:\n",
    "    for item in metadata:\n",
    "        json.dump(item, f)\n",
    "        f.write('\\n')"
   ],
   "id": "34dda694a77478e2",
   "outputs": [],
   "execution_count": 17
  },
  {
   "metadata": {
    "ExecuteTime": {
     "end_time": "2024-09-22T16:18:40.786326Z",
     "start_time": "2024-09-22T16:18:39.857656Z"
    }
   },
   "cell_type": "code",
   "source": [
    "from datasets import load_dataset\n",
    "\n",
    "dataset = load_dataset(\"imagefolder\", data_dir=\"../data/monin/combined_dataset\", split=\"train\")"
   ],
   "id": "5b741a0ad6b9b286",
   "outputs": [
    {
     "name": "stderr",
     "output_type": "stream",
     "text": [
      "Downloading data: 100%|██████████| 552/552 [00:00<00:00, 27605.95files/s]\n",
      "Downloading data: 100%|██████████| 141/141 [00:00<?, ?files/s]\n",
      "Generating train split: 549 examples [00:00, 6168.33 examples/s]\n",
      "Generating test split: 138 examples [00:00, 4749.01 examples/s]\n"
     ]
    }
   ],
   "execution_count": 10
  },
  {
   "metadata": {
    "ExecuteTime": {
     "end_time": "2024-09-22T16:19:56.427313Z",
     "start_time": "2024-09-22T16:19:56.410314Z"
    }
   },
   "cell_type": "code",
   "source": "dataset[0]['recipie']",
   "id": "b4d590cecabd1c4",
   "outputs": [
    {
     "data": {
      "text/plain": [
       "'1 wedge(s) watermelon\\nice\\n5 oz. green tea\\n1 oz. Monin Watermelon Syrup\\n2 oz. lemon-lime soda\\n\\nCombine ingredients, except sparkling beverage  in serving glass.\\nStir well to combine.\\nTop with sparkling beverage.\\nGarnish.'"
      ]
     },
     "execution_count": 14,
     "metadata": {},
     "output_type": "execute_result"
    }
   ],
   "execution_count": 14
  },
  {
   "metadata": {
    "ExecuteTime": {
     "end_time": "2024-09-22T16:37:16.206357Z",
     "start_time": "2024-09-22T16:37:14.080705Z"
    }
   },
   "cell_type": "code",
   "source": [
    "# check cuda\n",
    "import torch\n",
    "torch.cuda.is_available()"
   ],
   "id": "40180bdf5d074744",
   "outputs": [
    {
     "data": {
      "text/plain": [
       "True"
      ]
     },
     "execution_count": 15,
     "metadata": {},
     "output_type": "execute_result"
    }
   ],
   "execution_count": 15
  }
 ],
 "metadata": {
  "kernelspec": {
   "display_name": "Python 3",
   "language": "python",
   "name": "python3"
  },
  "language_info": {
   "codemirror_mode": {
    "name": "ipython",
    "version": 2
   },
   "file_extension": ".py",
   "mimetype": "text/x-python",
   "name": "python",
   "nbconvert_exporter": "python",
   "pygments_lexer": "ipython2",
   "version": "2.7.6"
  }
 },
 "nbformat": 4,
 "nbformat_minor": 5
}
