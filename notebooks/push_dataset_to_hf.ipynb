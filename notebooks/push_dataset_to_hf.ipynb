{
 "cells": [
  {
   "metadata": {
    "ExecuteTime": {
     "end_time": "2024-10-27T16:17:22.226853Z",
     "start_time": "2024-10-27T16:17:22.222359Z"
    }
   },
   "cell_type": "code",
   "source": [
    "INPUT_DIR = \"../data/monin/combined_dataset\"\n",
    "PUSH_PATH = \"ThreeBibas/recipie-image-dataset\""
   ],
   "id": "78eef4f4fd2a3dbb",
   "outputs": [],
   "execution_count": 4
  },
  {
   "cell_type": "code",
   "id": "initial_id",
   "metadata": {
    "collapsed": true,
    "ExecuteTime": {
     "end_time": "2024-10-27T16:17:23.357270Z",
     "start_time": "2024-10-27T16:17:22.804253Z"
    }
   },
   "source": [
    "!git config --global credential.helper store\n",
    "from huggingface_hub import login\n",
    "from secret import HF_TOKEN\n",
    "\n",
    "login(token=HF_TOKEN, add_to_git_credential=True)"
   ],
   "outputs": [
    {
     "name": "stdout",
     "output_type": "stream",
     "text": [
      "/bin/bash: warning: setlocale: LC_ALL: cannot change locale (en_US.UTF-8)\r\n",
      "Token is valid (permission: write).\n",
      "Your token has been saved in your configured git credential helpers (store).\n",
      "Your token has been saved to /home/bulat/.cache/huggingface/token\n",
      "Login successful\n"
     ]
    }
   ],
   "execution_count": 5
  },
  {
   "metadata": {},
   "cell_type": "markdown",
   "source": "### Fix of the test json structure",
   "id": "155a965586b54883"
  },
  {
   "metadata": {
    "ExecuteTime": {
     "end_time": "2024-10-27T16:35:06.614280Z",
     "start_time": "2024-10-27T16:35:06.556216Z"
    }
   },
   "cell_type": "code",
   "source": [
    "# import json\n",
    "# \n",
    "# input_file = \"../data/monin/combined_dataset/test/metadata.jsonl\"\n",
    "# output_file = \"../data/monin/combined_dataset/test/temp.jsonl\"\n",
    "# \n",
    "# with open(input_file, 'r', encoding='utf-8') as infile, open(output_file, 'w', encoding='utf-8') as outfile:\n",
    "#     for line in infile:\n",
    "#         data = json.loads(line)\n",
    "#         simplified_data = {\n",
    "#             \"text\": data[\"text\"],\n",
    "#             \"file_name\": data[\"file_name\"]\n",
    "#         }\n",
    "#         json.dump(simplified_data, outfile)\n",
    "#         outfile.write(\"\\n\")\n",
    "#         \n",
    "# import os\n",
    "# os.system(f'mv {output_file} {input_file}')"
   ],
   "id": "209a5e18ec362a54",
   "outputs": [
    {
     "data": {
      "text/plain": [
       "0"
      ]
     },
     "execution_count": 10,
     "metadata": {},
     "output_type": "execute_result"
    }
   ],
   "execution_count": 10
  },
  {
   "metadata": {
    "ExecuteTime": {
     "end_time": "2024-10-27T16:39:41.171755Z",
     "start_time": "2024-10-27T16:35:28.010332Z"
    }
   },
   "cell_type": "code",
   "source": [
    "from datasets import load_dataset\n",
    "from huggingface_hub import HfApi\n",
    "\n",
    "dataset = load_dataset(\"imagefolder\", data_dir=INPUT_DIR)\n",
    "\n",
    "api = HfApi()\n",
    "repo_url = api.create_repo(PUSH_PATH, repo_type=\"dataset\", private=False, exist_ok=True)\n",
    "\n",
    "dataset.push_to_hub(PUSH_PATH)"
   ],
   "id": "b0102728a7f9f088",
   "outputs": [
    {
     "data": {
      "text/plain": [
       "Resolving data files:   0%|          | 0/550 [00:00<?, ?it/s]"
      ],
      "application/vnd.jupyter.widget-view+json": {
       "version_major": 2,
       "version_minor": 0,
       "model_id": "b513384cae9044f1aa6c8855b03fc427"
      }
     },
     "metadata": {},
     "output_type": "display_data"
    },
    {
     "data": {
      "text/plain": [
       "Resolving data files:   0%|          | 0/139 [00:00<?, ?it/s]"
      ],
      "application/vnd.jupyter.widget-view+json": {
       "version_major": 2,
       "version_minor": 0,
       "model_id": "e5369ea4865b4ee6a042dfbf7bfdef55"
      }
     },
     "metadata": {},
     "output_type": "display_data"
    },
    {
     "data": {
      "text/plain": [
       "Downloading data:   0%|          | 0/552 [00:00<?, ?files/s]"
      ],
      "application/vnd.jupyter.widget-view+json": {
       "version_major": 2,
       "version_minor": 0,
       "model_id": "9b6cbd19318c423a94aed0e0077124f4"
      }
     },
     "metadata": {},
     "output_type": "display_data"
    },
    {
     "data": {
      "text/plain": [
       "Downloading data:   0%|          | 0/141 [00:00<?, ?files/s]"
      ],
      "application/vnd.jupyter.widget-view+json": {
       "version_major": 2,
       "version_minor": 0,
       "model_id": "4ce66a10f272436fba16ba9308d36e4d"
      }
     },
     "metadata": {},
     "output_type": "display_data"
    },
    {
     "data": {
      "text/plain": [
       "Generating train split: 0 examples [00:00, ? examples/s]"
      ],
      "application/vnd.jupyter.widget-view+json": {
       "version_major": 2,
       "version_minor": 0,
       "model_id": "028a3c671e414e1cbcc8d46bc64c9c72"
      }
     },
     "metadata": {},
     "output_type": "display_data"
    },
    {
     "data": {
      "text/plain": [
       "Generating test split: 0 examples [00:00, ? examples/s]"
      ],
      "application/vnd.jupyter.widget-view+json": {
       "version_major": 2,
       "version_minor": 0,
       "model_id": "02bd651b5c644c6389055c5b7ddd5323"
      }
     },
     "metadata": {},
     "output_type": "display_data"
    },
    {
     "data": {
      "text/plain": [
       "Uploading the dataset shards:   0%|          | 0/1 [00:00<?, ?it/s]"
      ],
      "application/vnd.jupyter.widget-view+json": {
       "version_major": 2,
       "version_minor": 0,
       "model_id": "37683593e1eb45db81924e762b3e4bc6"
      }
     },
     "metadata": {},
     "output_type": "display_data"
    },
    {
     "data": {
      "text/plain": [
       "Map:   0%|          | 0/549 [00:00<?, ? examples/s]"
      ],
      "application/vnd.jupyter.widget-view+json": {
       "version_major": 2,
       "version_minor": 0,
       "model_id": "a9311849e2db4f0ba84f63e9d6677cdc"
      }
     },
     "metadata": {},
     "output_type": "display_data"
    },
    {
     "data": {
      "text/plain": [
       "Creating parquet from Arrow format:   0%|          | 0/6 [00:00<?, ?ba/s]"
      ],
      "application/vnd.jupyter.widget-view+json": {
       "version_major": 2,
       "version_minor": 0,
       "model_id": "cbcc5c49e25c4c65a08343d8c3fef95f"
      }
     },
     "metadata": {},
     "output_type": "display_data"
    },
    {
     "data": {
      "text/plain": [
       "Uploading the dataset shards:   0%|          | 0/1 [00:00<?, ?it/s]"
      ],
      "application/vnd.jupyter.widget-view+json": {
       "version_major": 2,
       "version_minor": 0,
       "model_id": "d851656ca5c04637ad97c539084808e7"
      }
     },
     "metadata": {},
     "output_type": "display_data"
    },
    {
     "data": {
      "text/plain": [
       "Map:   0%|          | 0/138 [00:00<?, ? examples/s]"
      ],
      "application/vnd.jupyter.widget-view+json": {
       "version_major": 2,
       "version_minor": 0,
       "model_id": "8ef31e322ed34fc0b859483d6a92a00b"
      }
     },
     "metadata": {},
     "output_type": "display_data"
    },
    {
     "data": {
      "text/plain": [
       "Creating parquet from Arrow format:   0%|          | 0/2 [00:00<?, ?ba/s]"
      ],
      "application/vnd.jupyter.widget-view+json": {
       "version_major": 2,
       "version_minor": 0,
       "model_id": "db82c70c1b4a4615a9bb7ee13d5a773a"
      }
     },
     "metadata": {},
     "output_type": "display_data"
    },
    {
     "data": {
      "text/plain": [
       "CommitInfo(commit_url='https://huggingface.co/datasets/ThreeBibas/recipie-image-dataset/commit/5dee10da86f7a09a977dc060f67150bd5f94a22c', commit_message='Upload dataset', commit_description='', oid='5dee10da86f7a09a977dc060f67150bd5f94a22c', pr_url=None, pr_revision=None, pr_num=None)"
      ]
     },
     "execution_count": 11,
     "metadata": {},
     "output_type": "execute_result"
    }
   ],
   "execution_count": 11
  }
 ],
 "metadata": {
  "kernelspec": {
   "display_name": "Python 3",
   "language": "python",
   "name": "python3"
  },
  "language_info": {
   "codemirror_mode": {
    "name": "ipython",
    "version": 2
   },
   "file_extension": ".py",
   "mimetype": "text/x-python",
   "name": "python",
   "nbconvert_exporter": "python",
   "pygments_lexer": "ipython2",
   "version": "2.7.6"
  }
 },
 "nbformat": 4,
 "nbformat_minor": 5
}
